{
 "cells": [
  {
   "cell_type": "markdown",
   "id": "4bf5d86e-02e8-4849-a473-4f4787294c01",
   "metadata": {},
   "source": [
    "# E-commerce Web Scraping\n",
    "\n",
    "## Business Problem 📝💹\n",
    "\n",
    "En este proyecto trabajamos para una compañía (Whirpool) de e-commerce que se prepara para un fin de semana de promociones. Como tarea nos fue asignado averigüar los precios que maneja la competencia de algunos productos especiales. Nuestro objetico es **determinar el precio mínimo** que maneja la competencia para cada producto para así poder igualarlo. \n",
    "\n",
    "Stakeholders: \n",
    "* Marketing manager\n",
    "\n",
    "Recibimos:\n",
    "* Un archivo de excel (Products_and_comp.xlsx) con una lista de los productos sobre los cuales debemos hacer web scraping.\n",
    "* Los nombres de las compañías que son competencia y sobre las cuales debemos ingresar a su portal de e-commerce.\n",
    "\n",
    "Entregable:\n",
    "* Un pandas dataFrame con los precios y los URL de los productos para cada compañía de la competencia."
   ]
  },
  {
   "cell_type": "code",
   "execution_count": null,
   "id": "34d142d3-4412-469d-bcd1-05cf04a1d593",
   "metadata": {},
   "outputs": [],
   "source": [
    "\n",
    "import pandas as pd\n",
    "import numpy as np\n",
    "import re\n",
    "import time\n",
    "\n",
    "# import requests\n",
    "# from urllib.request import Request, urlopen\n",
    "# from bs4 import BeautifulSoup\n",
    "\n",
    "# Creamos un entorno virtual y usamos las siguientes librerias:\n",
    "from selenium import webdriver \n",
    "from selenium.webdriver.common.keys import Keys\n",
    "from selenium.webdriver.common.by import By\n",
    "from selenium.webdriver.support.ui import WebDriverWait\n",
    "from selenium.webdriver.support import expected_conditions as EC\n",
    "from selenium.webdriver.chrome.service import Service\n",
    "\n",
    "from webdriver_manager.chrome import ChromeDriverManager\n"
   ]
  },
  {
   "cell_type": "code",
   "execution_count": null,
   "id": "4974efd5-fe2e-46de-97a4-3d36376ae89d",
   "metadata": {},
   "outputs": [],
   "source": [
    "excel = pd.read_excel('Products_and_comp.xlsx')\n",
    "excel.shape"
   ]
  },
  {
   "cell_type": "code",
   "execution_count": null,
   "id": "afa2702a-4dad-46af-bee5-93abc2376399",
   "metadata": {},
   "outputs": [],
   "source": [
    "excel"
   ]
  },
  {
   "cell_type": "code",
   "execution_count": null,
   "id": "3573d958-0c47-469f-9970-e0e6f20459b3",
   "metadata": {},
   "outputs": [],
   "source": [
    "# Identificadores de los productos\n",
    "productos = excel['Material']\n",
    "marcas = excel['Marca']"
   ]
  },
  {
   "cell_type": "code",
   "execution_count": null,
   "id": "c2ac6f9f-7a2a-46d3-9c1b-178ff906469e",
   "metadata": {},
   "outputs": [],
   "source": [
    "# Obtenemos la competencia\n",
    "competencia = excel.columns[3::2]\n",
    "competencia"
   ]
  },
  {
   "cell_type": "markdown",
   "id": "9ded881d-e114-4856-a0e9-8500263f1d09",
   "metadata": {},
   "source": [
    "## Liverpool Mex\n",
    "\n",
    "Empezamos haciendole Web Scraping a la primera compañía de la competencia. La metodología es la siguiente:\n",
    "1) Seleccionamos el boton de la barra de búsquedas\n",
    "2) Escribimos los identificadores de los productos\n",
    "3) De los resultados obtenemos: precio, nombre y link. (Solo tomamos el precio final, i.e. el de venta y no al anterior a las promociones).\n",
    "4) Automatizamos con selenium y un _for_ que pase por cada identificador\n",
    "5) Generamos un csv con todos los resultados.\n",
    "\n",
    "\n",
    "URL = 'https://www.liverpool.com.mx/tienda/home'"
   ]
  },
  {
   "cell_type": "code",
   "execution_count": null,
   "id": "c1aed5dd-cbc3-4f19-aced-e91f960810b3",
   "metadata": {},
   "outputs": [],
   "source": [
    "datos = []\n",
    "driver = webdriver.Chrome(service=Service(ChromeDriverManager().install()))\n",
    "driver.maximize_window()\n",
    "driver.get(\"https://www.liverpool.com.mx/tienda/home\")\n",
    "no_encontrados = []\n",
    "\n",
    "for i in range(len(productos)):\n",
    "    try:\n",
    "        search_bar = WebDriverWait(driver, 10).until(EC.presence_of_element_located((By.XPATH, \"//input[@class='form-control search-bar plp-no__results']\")))\n",
    "        #search_bar = driver.find_element(By.CLASS_NAME, \"form-control search-bar plp-no__results\")\n",
    "        \n",
    "        #Here we delete the previous search\n",
    "        search_bar.send_keys(Keys.CONTROL, 'a')\n",
    "        time.sleep(0.5) # This page needs some time to load.\n",
    "        search_bar.send_keys(Keys.BACKSPACE)\n",
    "        \n",
    "        #We write our query\n",
    "        search_bar.send_keys(productos[i])\n",
    "        search_bar.send_keys(Keys.ENTER)\n",
    "        \n",
    "        try:       \n",
    "            time.sleep(2) # To reload the poge needs aprox this time\n",
    "            xpath_titulo = \"//h1[@class='a-product__information--title']\"\n",
    "            titulo = WebDriverWait(driver, 10).until(EC.presence_of_element_located((By.XPATH, xpath_titulo)))\n",
    "            titulo = driver.find_element(By.XPATH, xpath_titulo)\n",
    "            titulo = [titulo.text]\n",
    "            \n",
    "            \n",
    "            xpath_precio = \"//p[@class = 'a-product__paragraphDiscountPrice m-0 d-inline ']\"\n",
    "            WebDriverWait(driver, 10).until(EC.presence_of_element_located((By.XPATH, xpath_precio)))\n",
    "            precio = driver.find_element(By.XPATH, xpath_precio)\n",
    "            precio = [precio.text]\n",
    "            \n",
    "            \n",
    "            get_url = driver.current_url\n",
    "            link = [str(get_url)]\n",
    "\n",
    "            # Añadimos el producto con datos np.Nan\n",
    "            df = pd.DataFrame({'titles': titulo, \\\n",
    "                               'prices': precio, \\\n",
    "                               'links': link, \\\n",
    "                               'id': [productos[i]]}) \n",
    "            datos.append(df)\n",
    "\n",
    "        except:\n",
    "            # Si este xpath existe es poque la búsqueda devolvió nada.\n",
    "            nada_xpath = \"//div[@class='o-content__noResultsNullSearch']//p[@class = 'o-nullproduct-query'][1]\"\n",
    "            nada = WebDriverWait(driver, 10).until(EC.presence_of_element_located((By.XPATH, nada_xpath))) \n",
    "            # Añadimos el producto con datos np.Nan\n",
    "            df = pd.DataFrame({'titles': [np.nan], \\\n",
    "                               'prices': [np.nan], \\\n",
    "                               'links': [np.nan], \\\n",
    "                               'id': [productos[i]]}) \n",
    "            datos.append(df)\n",
    "    except:\n",
    "        no_encontrados.append(productos[i])\n",
    "\n",
    "driver.quit() \n",
    "datos_final = pd.concat(datos, ignore_index = True)\n",
    "datos_final.to_csv('scrapped_csv/Liverpool.csv')"
   ]
  },
  {
   "cell_type": "code",
   "execution_count": null,
   "id": "bcbbe32a-4e19-4ca8-9856-28b09ea3ebca",
   "metadata": {},
   "outputs": [],
   "source": [
    "liverpool = datos_final.copy()\n",
    "# liverpool = pd.read_csv(/, index_col = [0])"
   ]
  },
  {
   "cell_type": "code",
   "execution_count": null,
   "id": "5ac51460-35fc-4875-9776-1b4548b79cd9",
   "metadata": {},
   "outputs": [],
   "source": [
    "liverpool"
   ]
  },
  {
   "cell_type": "markdown",
   "id": "35cf7444-962d-4853-a4ea-fc0c44ee1753",
   "metadata": {},
   "source": [
    "## Coppel Mex & Home Depot\n",
    "No disponible. Solo disponible via VPN. (Algo que proveería una empresa que me contrate ;) )\n",
    "\n",
    "\n",
    "![Coppel](images/Coppel.png)"
   ]
  },
  {
   "cell_type": "markdown",
   "id": "a67a7137-c6aa-4315-9d4d-243f3828d821",
   "metadata": {},
   "source": [
    "## Costco\n",
    "\n",
    "This page enters into maintenance mode after some scraping. We notice that the majority of products are missing.\n",
    "This was a challegne that we succesfully surpass thanks to adding some random noise. Even, though, no products were find of our given list."
   ]
  },
  {
   "cell_type": "code",
   "execution_count": null,
   "id": "87d88584-6966-4e53-b005-dfdaead5083d",
   "metadata": {},
   "outputs": [],
   "source": [
    "import random\n",
    "\n",
    "datos = []\n",
    "driver = webdriver.Chrome(service=Service(ChromeDriverManager().install()))\n",
    "driver.maximize_window()\n",
    "driver.get(\"https://www.costco.com.mx/\")\n",
    "\n",
    "search_xpath = \"//div[@id='searchBoxContainer']//input[@class='search-input']\"\n",
    "search_bar = WebDriverWait(driver, 10).until(EC.presence_of_element_located((By.XPATH, search_xpath)))\n",
    "search_bar = driver.find_element(By.XPATH, search_xpath)\n",
    "\n",
    "condition = True\n",
    "i = 0\n",
    "while condition and i < 425:\n",
    "    tiempo_s = round(1+ random.random()*2,2)\n",
    "    \n",
    "    if i % 25 == 0:\n",
    "        time.sleep(5) # We give the page some more free time to load\n",
    "        \n",
    "    try:\n",
    "        #Here we delete the previous search\n",
    "        search_bar.send_keys(Keys.CONTROL, 'a')\n",
    "        search_bar.send_keys(Keys.BACKSPACE)\n",
    "\n",
    "        #We write our new search\n",
    "        search_bar.send_keys(productos[i])\n",
    "        search_bar.send_keys(Keys.ENTER)\n",
    "        time.sleep(tiempo_s)\n",
    "        try:\n",
    "            xpath_noresult= \"//h1//span[@class='ng-star-inserted']\"\n",
    "            no_result = WebDriverWait(driver, 10).until(EC.presence_of_element_located((By.XPATH, xpath_noresult)))\n",
    "            no_result = driver.find_element(By.XPATH, xpath_noresult)\n",
    "            \n",
    "            if no_result.text != str(\"No se encontraron resultados para\"):\n",
    "                condition = False\n",
    "                valor = producto_actual\n",
    "            \n",
    "        except:\n",
    "            condition = False\n",
    "            valor = producto_actual\n",
    "            \n",
    "        \n",
    "    except:\n",
    "        print('Falla en Botón de búsqueda' + str(producto_actual))\n",
    "    i += 1\n",
    "    \n",
    "\n",
    "driver.quit() "
   ]
  },
  {
   "cell_type": "markdown",
   "id": "19dff0ae-c146-4afe-b775-3b94ad17323e",
   "metadata": {},
   "source": [
    "No results"
   ]
  },
  {
   "cell_type": "markdown",
   "id": "e4ac9272-02a6-4443-aad6-7b35068bb812",
   "metadata": {},
   "source": [
    "\n",
    "## Sears Mex\n",
    "\n",
    "Link = 'https://www.sears.com.mx/'\n"
   ]
  },
  {
   "cell_type": "code",
   "execution_count": null,
   "id": "73fd9455-2006-40cd-a5a0-c95454a58bca",
   "metadata": {},
   "outputs": [],
   "source": [
    "datos = []\n",
    "\n",
    "driver = webdriver.Chrome(service=Service(ChromeDriverManager().install()))\n",
    "driver.maximize_window()\n",
    "driver.get(\"https://www.sears.com.mx/\")\n",
    "\n",
    "no_encontrados = []\n",
    "\n",
    "for i in range(4):\n",
    "    try:\n",
    "        #In this case Selenium lost the object so it's neccesary to search it again. This is due to the page changing our path after interacting with it.\n",
    "        search_xpath = \"//div[@class='headerSup']//input[@class='input']\"\n",
    "        search_bar = WebDriverWait(driver, 10).until(EC.presence_of_element_located((By.XPATH, search_xpath)))\n",
    "        search_bar = driver.find_element(By.XPATH, search_xpath)\n",
    "        \n",
    "        #Here we delete the previous search\n",
    "        search_bar.send_keys(Keys.CONTROL, 'a')\n",
    "        search_bar.send_keys(Keys.BACKSPACE)\n",
    "\n",
    "        #We write our new search\n",
    "        search_bar.send_keys(productos[i] + ' ' + marcas[i])\n",
    "        search_bar.send_keys(Keys.ENTER)\n",
    "        \n",
    "        try:\n",
    "            time.sleep(1.5)\n",
    "            xpath_titulo = \"//article//p[@class='h4']\"\n",
    "            #WebDriverWait(driver, 10).until(EC.presence_of_element_located((By.XPATH, xpath_titulo)))\n",
    "            titulos = driver.find_elements(By.XPATH, xpath_titulo)\n",
    "            titulos = [ti.text for ti in titulos]          \n",
    "        except:\n",
    "            no_encontrados.append(producto_actual)\n",
    "            print('error encontrar titulos')\n",
    "        try:            \n",
    "            xpath_precio = \"//article//p[@class='precio1']\"\n",
    "            #WebDriverWait(driver, 10).until(EC.presence_of_element_located((By.XPATH, xpath_precio)))\n",
    "            precios = driver.find_elements(By.XPATH, xpath_precio)\n",
    "            precios = [p.text for p in precios]\n",
    "        except:\n",
    "            print('EErro al encontrar precios')\n",
    "        try:\n",
    "            xpath_link = \"//article//a[1]\"\n",
    "            #WebDriverWait(driver, 10).until(EC.presence_of_element_located((By.XPATH, xpath_link)))\n",
    "            links = driver.find_elements(By.XPATH, xpath_link)\n",
    "            links = [link.get_attribute(\"href\") for link in links] \n",
    "        except:\n",
    "            print('Error al encontrar links')\n",
    "    except:\n",
    "        no_encontrados.append(producto_actual)\n",
    "        print('error bus')\n",
    "    \n",
    "driver.quit() "
   ]
  },
  {
   "cell_type": "code",
   "execution_count": null,
   "id": "b803527f-d5b4-4bfb-b342-bc8e985a42bf",
   "metadata": {},
   "outputs": [],
   "source": [
    "titulos"
   ]
  },
  {
   "cell_type": "code",
   "execution_count": null,
   "id": "17911dd1-8b09-48ff-990b-b0d7766cf9da",
   "metadata": {},
   "outputs": [],
   "source": []
  },
  {
   "cell_type": "code",
   "execution_count": null,
   "id": "d28f2ae5-20d3-461b-8e66-10e5a7164c0d",
   "metadata": {},
   "outputs": [],
   "source": []
  },
  {
   "cell_type": "code",
   "execution_count": null,
   "id": "2778539c-a242-403b-aa59-b344f136e2e9",
   "metadata": {},
   "outputs": [],
   "source": []
  },
  {
   "cell_type": "markdown",
   "id": "0f4c7205-5064-4dff-b40d-6044b015d448",
   "metadata": {
    "tags": []
   },
   "source": [
    "## Mercado Libre Mex\n",
    "\n",
    "Empezamos haciendole web scraping a Mercado Libre. Usamos Selenium con un driver de Chrome 108. \n",
    "Es necesario ejecutar el script _Mercado_Libre.py\n",
    "\n",
    "\n",
    "URL = 'https://www.mercadolibre.com.mx/a/store/seagate'"
   ]
  },
  {
   "cell_type": "markdown",
   "id": "93b073a0-e583-4455-9398-e1b97d6b752a",
   "metadata": {
    "tags": []
   },
   "source": [
    "### Test\n",
    "Después de correr el script, vemos el csv final.\n"
   ]
  },
  {
   "cell_type": "code",
   "execution_count": null,
   "id": "deb7a643-f2b8-4233-a986-51ef3a0f1007",
   "metadata": {},
   "outputs": [],
   "source": [
    "datos = []\n",
    "\n",
    "driver = webdriver.Chrome(\"./chromedriver\")\n",
    "driver.get(\"https://www.mercadolibre.com.mx/\")\n",
    "for i in range(len(productos)):\n",
    "    try:\n",
    "        # search_bar = WebDriverWait(driver, 10).until(EC.presence_of_element_located((By.CLASS_NAME, \"nav-search-input\")))\n",
    "        search_bar = driver.find_element(By.CLASS_NAME, \"nav-search-input\")\n",
    "        search_bar.clear()\n",
    "        search_bar.send_keys(productos[i])\n",
    "        search_bar.send_keys(Keys.ENTER)\n",
    "\n",
    "        try:\n",
    "            #xpath2 = \"//h2[@class='ui-search-item__title ui-search-item__group__element shops__items-group-details shops__item-title']\"\n",
    "            xpath = \"//h2[@class='ui-search-item__title shops__item-title']\"\n",
    "            title_products = driver.find_elements(By.XPATH, xpath)\n",
    "            title_products = [title.text for title in title_products]\n",
    "            \n",
    "\n",
    "            xpathp = \"//div[@class='ui-search-price ui-search-price--size-medium shops__price']//span[@class='price-tag ui-search-price__part shops__price-part']//span[@class='price-tag-fraction']\"\n",
    "            price_products = driver.find_elements(By.XPATH,xpathp)\n",
    "            price_products = [price.text for price in price_products]\n",
    "\n",
    "            xpathl = \"//div[@class='ui-search-item__group ui-search-item__group--title shops__items-group']//a[1]\"\n",
    "            links = driver.find_elements(By.XPATH, xpathl)\n",
    "            links = [link.get_attribute(\"href\") for link in links]\n",
    "\n",
    "            if len(links) == 0 or len(price_products) == 0 or len(title_products) == 0:\n",
    "                xpath2 = \"//h2[@class='ui-search-item__title ui-search-item__group__element shops__items-group-details shops__item-title']\"\n",
    "                #xpath = \"//h2[@class='ui-search-item__title shops__item-title']\"\n",
    "                title_products = driver.find_elements(By.XPATH, xpath2)\n",
    "                title_products = [title.text for title in title_products]\n",
    "                \n",
    "\n",
    "                xpathp = \"//div[@class='ui-search-price ui-search-price--size-medium shops__price']//span[@class='price-tag ui-search-price__part shops__price-part']//span[@class='price-tag-fraction']\"\n",
    "                price_products = driver.find_elements(By.XPATH,xpathp)\n",
    "                price_products = [price.text for price in price_products]\n",
    "\n",
    "                xpathl = \"//div[@class='ui-search-result__wrapper shops__result-wrapper']//div[@class = 'ui-search-result__image shops__picturesStyles']//a[1]\"\n",
    "                links = driver.find_elements(By.XPATH, xpathl)\n",
    "                links = [link.get_attribute(\"href\") for link in links]\n",
    "                if len(links) == len(price_products) and len(price_products) == len(title_products) and len(title_products):\n",
    "                    products = {'titles': title_products,  'prices': price_products, 'links': links }\n",
    "                    df = pd.DataFrame(products)\n",
    "                    df['id'] = productos[i]\n",
    "                    datos.append(df)\n",
    "\n",
    "            elif len(links) == len(price_products) and len(price_products) == len(title_products) and len(title_products):\n",
    "                products = {'titles': title_products,  'prices': price_products, 'links': links }\n",
    "                df = pd.DataFrame(products)\n",
    "                df['id'] = productos[i]\n",
    "                datos.append(df)\n",
    "            else:\n",
    "                df = pd.DataFrame({'titles': [np.nan], 'prices': [np.nan], 'links': [np.nan], 'id': productos[i]})\n",
    "                print('Product Not Available:' + str(productos[i]) + ' pos ' + str(i))\n",
    "                datos.append(df)\n",
    "            \n",
    "        except:\n",
    "            df = pd.DataFrame({'titles': [np.nan], 'prices': [np.nan], 'links': [np.nan], 'id': productos[i]})\n",
    "            print('No link for product:' + str(productos[i] + 'pos ' + str(i)))\n",
    "            datos.append(df)\n",
    "    except:\n",
    "        print('Error in buttom in pos ' + str(i))\n",
    "\n",
    "driver.quit() \n",
    "datos_final = pd.concat(datos, ignore_index = True)\n",
    "datos_final.to_csv('scrapped_csv/Mercado_Libre.csv')"
   ]
  },
  {
   "cell_type": "code",
   "execution_count": null,
   "id": "704aede9-1bed-4775-ba81-d9799e9e7b52",
   "metadata": {},
   "outputs": [],
   "source": [
    "resultados_test1 = pd.read_csv('test_ML.csv', index_col = [0])\n",
    "resultados_test1"
   ]
  },
  {
   "cell_type": "code",
   "execution_count": null,
   "id": "34645a63-d212-4e6e-965e-80233118e9e9",
   "metadata": {},
   "outputs": [],
   "source": [
    "df = pd.read_csv('scrapped_csv/Mercado_Libre.csv', index_col = [0])\n",
    "df"
   ]
  },
  {
   "cell_type": "code",
   "execution_count": null,
   "id": "8b11bc5a-408b-40c0-b6da-ea62e449ee0d",
   "metadata": {},
   "outputs": [],
   "source": [
    "set(productos[0:18]) - set(df.id.unique())"
   ]
  },
  {
   "cell_type": "code",
   "execution_count": null,
   "id": "3c2e663e-7c3e-46cc-8506-99d83eb1b16e",
   "metadata": {},
   "outputs": [],
   "source": [
    "df.id.unique()"
   ]
  },
  {
   "cell_type": "code",
   "execution_count": null,
   "id": "f31ed718-a593-4cc8-bfec-a769ef1e6298",
   "metadata": {},
   "outputs": [],
   "source": [
    "df[df.id == 'KSM150PSER']"
   ]
  },
  {
   "cell_type": "markdown",
   "id": "f7c05835-471a-43a9-99ac-173216221911",
   "metadata": {},
   "source": [
    "## ELEKTRA\n",
    "\n",
    "https://www.elektra.mx/"
   ]
  },
  {
   "cell_type": "markdown",
   "id": "bc55202b-f5a2-4a14-88b7-3515ae96c8e3",
   "metadata": {},
   "source": [
    "## Walmart Mex\n",
    "\n",
    "https://www.walmart.com.mx/"
   ]
  },
  {
   "cell_type": "markdown",
   "id": "c7ddeee8-713a-4ef9-9b39-d95afcec318a",
   "metadata": {},
   "source": [
    "## Sam's\n",
    "\n",
    "https://www.sams.com.mx/"
   ]
  },
  {
   "cell_type": "markdown",
   "id": "06740fe0-7ce9-4157-8ce7-656a1f041009",
   "metadata": {},
   "source": [
    "## Suburbia\n",
    "\n",
    "https://www.suburbia.com.mx/tienda/home"
   ]
  },
  {
   "cell_type": "markdown",
   "id": "9a3d48cd-52b9-4bb5-8b97-76b5f40222c4",
   "metadata": {},
   "source": [
    "## Palacio\n",
    "\n",
    "No disponible sin VPN."
   ]
  },
  {
   "cell_type": "markdown",
   "id": "a75d2ed5-8a9d-4911-b8ea-2414aab8ff8c",
   "metadata": {},
   "source": [
    "## Famsa\n",
    "\n",
    "Página no carga"
   ]
  },
  {
   "cell_type": "markdown",
   "id": "5d14ef11-2657-4916-a459-534d68117ed1",
   "metadata": {},
   "source": [
    "## REAMI\n",
    "\n",
    "No disponible sin VPN."
   ]
  },
  {
   "cell_type": "markdown",
   "id": "4b522781-f520-4c97-bada-f8c0ccc2b1d9",
   "metadata": {},
   "source": [
    "## Soriana\n",
    "\n",
    "https://www.soriana.com/"
   ]
  },
  {
   "cell_type": "markdown",
   "id": "2e5ddc5e-d7bd-4710-95f6-ae82e6d1e187",
   "metadata": {},
   "source": [
    "## La Unica\n",
    "\n",
    "No disponible sin VPN."
   ]
  },
  {
   "cell_type": "markdown",
   "id": "4b14cc9a-8526-413f-934f-02f1d84a0195",
   "metadata": {},
   "source": [
    "## Cimaco\n",
    "\n",
    "https://www.cimaco.com.mx/"
   ]
  },
  {
   "cell_type": "markdown",
   "id": "54392334-d3b3-49a6-be06-ce59a38eb0df",
   "metadata": {},
   "source": [
    "## Cyber Puerta \n",
    "\n",
    "https://www.cyberpuerta.mx/"
   ]
  }
 ],
 "metadata": {
  "kernelspec": {
   "display_name": "Python 3 (ipykernel)",
   "language": "python",
   "name": "python3"
  },
  "language_info": {
   "codemirror_mode": {
    "name": "ipython",
    "version": 3
   },
   "file_extension": ".py",
   "mimetype": "text/x-python",
   "name": "python",
   "nbconvert_exporter": "python",
   "pygments_lexer": "ipython3",
   "version": "3.10.5"
  },
  "vscode": {
   "interpreter": {
    "hash": "98b7f83ea1f6816592be813d0a9257f9f3e2d15bf5c320e3b781c72faa584dce"
   }
  }
 },
 "nbformat": 4,
 "nbformat_minor": 5
}
